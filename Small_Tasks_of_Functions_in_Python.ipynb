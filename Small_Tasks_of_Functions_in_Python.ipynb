{
  "nbformat": 4,
  "nbformat_minor": 0,
  "metadata": {
    "colab": {
      "provenance": [],
      "collapsed_sections": [],
      "authorship_tag": "ABX9TyMeWHU8P1o06eKa0tODCa9n",
      "include_colab_link": true
    },
    "kernelspec": {
      "name": "python3",
      "display_name": "Python 3"
    },
    "language_info": {
      "name": "python"
    }
  },
  "cells": [
    {
      "cell_type": "markdown",
      "metadata": {
        "id": "view-in-github",
        "colab_type": "text"
      },
      "source": [
        "<a href=\"https://colab.research.google.com/github/faisalamin12/Python-Short-Programs/blob/main/Small_Tasks_of_Functions_in_Python.ipynb\" target=\"_parent\"><img src=\"https://colab.research.google.com/assets/colab-badge.svg\" alt=\"Open In Colab\"/></a>"
      ]
    },
    {
      "cell_type": "markdown",
      "source": [
        "1. Write a Python function to find the Max of three numbers\n",
        "\n",
        "\n"
      ],
      "metadata": {
        "id": "la1qfgVutSKj"
      }
    },
    {
      "cell_type": "code",
      "source": [
        "def max_number(a,b,c):\n",
        "  if a > b and a > c:\n",
        "    return \"Greater Number: {}\".format(a)\n",
        "  elif b > a and b > c:\n",
        "    return \"Greater Number: {}\".format(b)\n",
        "  else:\n",
        "    return \"Greater Number: {}\".format(c)\n",
        "  \n",
        "\n",
        "\n",
        "num1 = max_number(12,4,2)\n",
        "  "
      ],
      "metadata": {
        "id": "LSnL2QZJta1Y"
      },
      "execution_count": 5,
      "outputs": []
    },
    {
      "cell_type": "code",
      "source": [
        "num1"
      ],
      "metadata": {
        "colab": {
          "base_uri": "https://localhost:8080/",
          "height": 35
        },
        "id": "E594r8dFuZRs",
        "outputId": "8075caa5-b9bb-4140-bf6f-0064c36fc0f4"
      },
      "execution_count": 6,
      "outputs": [
        {
          "output_type": "execute_result",
          "data": {
            "text/plain": [
              "'Greater Number: 12'"
            ],
            "application/vnd.google.colaboratory.intrinsic+json": {
              "type": "string"
            }
          },
          "metadata": {},
          "execution_count": 6
        }
      ]
    },
    {
      "cell_type": "markdown",
      "source": [
        "2. Write a Python function to sum all the numbers in a list. \n",
        "Sample List : (8, 2, 3, 0, 7)\n",
        "Expected Output : 20 "
      ],
      "metadata": {
        "id": "fW30Ewncw4u_"
      }
    },
    {
      "cell_type": "code",
      "source": [
        "\n",
        "\n",
        "list_1 = [8,2,3,0,7]\n",
        "def sum_of_list_elements(numbers):\n",
        "  sum1 = 0\n",
        "\n",
        "  for i in numbers:\n",
        "    sum1 = sum1 + i\n",
        "\n",
        "  return sum1\n",
        "\n",
        "  \n",
        "x = sum_of_list_elements(list_1)"
      ],
      "metadata": {
        "id": "OH-k43TRwceR"
      },
      "execution_count": 15,
      "outputs": []
    },
    {
      "cell_type": "code",
      "source": [
        "x"
      ],
      "metadata": {
        "colab": {
          "base_uri": "https://localhost:8080/"
        },
        "id": "r6HaLwy0xiAJ",
        "outputId": "473a927b-10dc-4526-9303-0f698c3d70c0"
      },
      "execution_count": 16,
      "outputs": [
        {
          "output_type": "execute_result",
          "data": {
            "text/plain": [
              "20"
            ]
          },
          "metadata": {},
          "execution_count": 16
        }
      ]
    },
    {
      "cell_type": "markdown",
      "source": [
        "3. Write a Python function to multiply all the numbers in a list.bold text\n",
        "Sample List : (8, 2, 3, -1, 7)\n",
        "Expected Output : -336"
      ],
      "metadata": {
        "id": "jANDrI1e1K7Q"
      }
    },
    {
      "cell_type": "code",
      "source": [
        "list_2 = [8,2,3,-1,7]\n",
        "\n",
        "\n",
        "def multiplication_of_list_elements(a):\n",
        "  multiply = 1\n",
        "  for i in a:\n",
        "    multiply *= i\n",
        "  return multiply\n",
        "\n",
        "\n",
        "y = multiplication_of_list_elements(list_2)\n",
        "\n"
      ],
      "metadata": {
        "id": "6uZ-tbuB00I0"
      },
      "execution_count": 31,
      "outputs": []
    },
    {
      "cell_type": "code",
      "source": [
        "y"
      ],
      "metadata": {
        "colab": {
          "base_uri": "https://localhost:8080/"
        },
        "id": "x4AjSINm1gyI",
        "outputId": "85426c63-a4d2-450e-8caa-2913cc1e4eae"
      },
      "execution_count": 34,
      "outputs": [
        {
          "output_type": "execute_result",
          "data": {
            "text/plain": [
              "-336"
            ]
          },
          "metadata": {},
          "execution_count": 34
        }
      ]
    },
    {
      "cell_type": "markdown",
      "source": [
        " 4. Write a Python function that accepts a string and calculate the number of upper case letters and lower case letters.\n",
        "\n",
        "Sample String : 'The quick Brow Fox'\n",
        "\n",
        "Expected Output :\n",
        "\n",
        "No. of Upper case characters : 3\n",
        "\n",
        "No. of Lower case Characters : 12"
      ],
      "metadata": {
        "id": "paAecZzUDEIU"
      }
    },
    {
      "cell_type": "code",
      "source": [
        "sample_string = \"The Quick Brown Fox\"\n",
        "_\n",
        "def calculate_upper_and_lower(y):\n",
        "  upper_ch = 0\n",
        "  lower_ch = 0\n",
        "  spc = 0\n",
        "  for i in y:\n",
        "    if i.isupper():\n",
        "      upper_ch = upper_ch + 1\n",
        "    elif i.islower():\n",
        "      lower_ch = lower_ch + 1\n",
        "\n",
        "    else:\n",
        "      spc = spc + 1\n",
        "  \n",
        "  \n",
        "  print(\"Sentence: \" + sample_string)\n",
        "  print(\"Upper Charctors: {} \\n Lower Characters: {} \\n No of Spaces: {} \".format(upper_ch , lower_ch , spc))\n",
        "\n",
        "\n",
        "calculate_upper_and_lower(sample_string)\n",
        "  "
      ],
      "metadata": {
        "colab": {
          "base_uri": "https://localhost:8080/"
        },
        "id": "EfnIlbQBDOS-",
        "outputId": "d3f10c17-0366-4f5b-ba39-3f2c6908a4ad"
      },
      "execution_count": 36,
      "outputs": [
        {
          "output_type": "stream",
          "name": "stdout",
          "text": [
            "Sentence: The Quick Brown Fox\n",
            "Upper Charctors: 4 \n",
            " Lower Characters: 12 \n",
            " No of Spaces: 3 \n"
          ]
        }
      ]
    },
    {
      "cell_type": "code",
      "source": [],
      "metadata": {
        "id": "0sSe98zdDC9E"
      },
      "execution_count": null,
      "outputs": []
    }
  ]
}
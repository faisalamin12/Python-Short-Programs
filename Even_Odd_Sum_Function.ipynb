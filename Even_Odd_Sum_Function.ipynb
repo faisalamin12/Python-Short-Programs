{
  "nbformat": 4,
  "nbformat_minor": 0,
  "metadata": {
    "colab": {
      "provenance": []
    },
    "kernelspec": {
      "name": "python3",
      "display_name": "Python 3"
    },
    "language_info": {
      "name": "python"
    }
  },
  "cells": [
    {
      "cell_type": "code",
      "execution_count": 2,
      "metadata": {
        "colab": {
          "base_uri": "https://localhost:8080/"
        },
        "id": "CGl3xVOXkmqf",
        "outputId": "601d9c9a-e1b4-4095-c7bc-7fb4ab99883d"
      },
      "outputs": [
        {
          "output_type": "stream",
          "name": "stdout",
          "text": [
            "[1, 2, 3, 5, 7, 8, 23, 28, 76, 65, 47, 98, 100]\n"
          ]
        }
      ],
      "source": [
        "list_1= [1,2,3,5,7,8,23,28,76,65,47,98,100]\n",
        "print(list_1)"
      ]
    },
    {
      "cell_type": "code",
      "source": [
        "\n",
        "\n",
        "def even_odd_sep(a):\n",
        "  even_lst = []\n",
        "  odd_lst = []\n",
        "  sum_even = 0\n",
        "  sum_odd = 0\n",
        "  for i in a:\n",
        "    if i % 2 == 0:\n",
        "      even_lst.append(i)\n",
        "      sum_even = sum_even + i\n",
        "    else:\n",
        "      odd_lst.append(i)\n",
        "      sum_odd = sum_odd + i\n",
        "  print(even_lst , odd_lst)\n",
        "  print(\"The sum of Even Numbers: \"+ str(sum_even) +\"\\n\" + \"The Sum of Odd Numbers: \"  + str(sum_odd))\n",
        "  \n",
        "\n",
        "\n",
        "  \n",
        "  \n",
        "\n",
        "\n",
        "\n",
        "even_odd_sep(list_1)"
      ],
      "metadata": {
        "id": "N8k-OfGLkyyT",
        "colab": {
          "base_uri": "https://localhost:8080/"
        },
        "outputId": "670deba4-6304-4016-f07a-cb8c87dc0eae"
      },
      "execution_count": 10,
      "outputs": [
        {
          "output_type": "stream",
          "name": "stdout",
          "text": [
            "[2, 8, 28, 76, 98, 100] [1, 3, 5, 7, 23, 65, 47]\n",
            "The sum of Even Numbers: 312\n",
            "The Sum of Odd Numbers: 151\n"
          ]
        }
      ]
    },
    {
      "cell_type": "code",
      "source": [],
      "metadata": {
        "id": "3AxcTg1wUS0R"
      },
      "execution_count": null,
      "outputs": []
    }
  ]
}